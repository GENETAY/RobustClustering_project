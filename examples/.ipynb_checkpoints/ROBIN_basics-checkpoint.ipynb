{
 "cells": [
  {
   "cell_type": "code",
   "execution_count": 1,
   "metadata": {},
   "outputs": [],
   "source": [
    "# import different de ceux tout en haut pour ne rien toucher a ce qui marche\n",
    "import os\n",
    "import sys\n",
    "module_path = os.path.abspath(os.path.join('..'))\n",
    "if module_path not in sys.path:\n",
    "    sys.path.append(module_path)\n",
    "\n",
    "import numpy as np\n",
    "import random\n",
    "from collections import Counter\n",
    "# from math import floor,modf,sqrt,log\n",
    "\n",
    "# from scipy.spatial.distance import cdist,mahalanobis\n",
    "# from scipy.stats import cauchy,chi2,mode\n",
    "\n",
    "from RobustClustering import ROBIN as init_ROBIN\n",
    "\n",
    "# from sklearn import datasets\n",
    "# from sklearn.cluster import DBSCAN,Birch\n",
    "# from sklearn.metrics import confusion_matrix, accuracy_score, adjusted_rand_score, normalized_mutual_info_score\n",
    "from sklearn.datasets import make_blobs\n",
    "from sklearn.neighbors import LocalOutlierFactor\n",
    "\n",
    "# import pandas as pd\n",
    "# import seaborn as sns\n",
    "\n",
    "import matplotlib.pyplot as plt\n",
    "%matplotlib inline\n",
    "\n",
    "import time\n",
    "\n",
    "# import skfuzzy as fuzz\n",
    "# from pyclustering.cluster.kmedoids import kmedoids\n",
    "# from pyclustering.cluster.kmedians import kmedians\n",
    "# from pyclustering.cluster.xmeans import xmeans\n",
    "# from pyclustering.cluster.center_initializer import kmeans_plusplus_initializer\n",
    "# from pyclustering.cluster import cluster_visualizer\n"
   ]
  },
  {
   "cell_type": "code",
   "execution_count": 2,
   "metadata": {},
   "outputs": [],
   "source": [
    "def def_centers(p,mu):\n",
    "    # dimension de l'entree\n",
    "    K,dim=mu.shape\n",
    "    # les centres en dimension p\n",
    "    centers=np.zeros((K,p))\n",
    "    for k in range(K):\n",
    "            for j in range(dim):\n",
    "                centers[k,j]=mu[k,j]\n",
    "    return(centers)\n",
    "\n",
    "def data_clustered_outliers(n_samples,n_outliers,p,centers = np.array([[1,4],[2,1],[-2,3]]),centers_outliers=np.array([[7,7]]),it_=0):\n",
    "    # initialisation des parametres\n",
    "    centers=def_centers(mu=centers,p=p)\n",
    "    centers_outliers=def_centers(mu=centers_outliers,p=p)\n",
    "    K           = len(centers)              # nombre de classes\n",
    "    sig         = 0.6                       # within variance\n",
    "    # Generation des donnees\n",
    "    Xinlier, y_inlier = make_blobs(n_samples=n_samples, centers=centers, cluster_std=0.60, random_state=it_)\n",
    "    # Outliers creation\n",
    "    Xoutlier, y_outlier = make_blobs(n_samples=n_outliers, centers=centers_outliers, cluster_std=0.60)\n",
    "    # all concatenante\n",
    "    n_data=n_samples+n_outliers\n",
    "    X = np.concatenate([Xoutlier,Xinlier], axis=0)\n",
    "    y_true=np.concatenate([y_outlier+K,y_inlier])\n",
    "    return({'points':X,'partition':y_true,\"centers\":centers})"
   ]
  },
  {
   "cell_type": "code",
   "execution_count": 3,
   "metadata": {},
   "outputs": [
    {
     "name": "stdout",
     "output_type": "stream",
     "text": [
      "alpha= 0.1\n",
      "complexity_param= 3\n"
     ]
    }
   ],
   "source": [
    "n_samples=100\n",
    "k=4\n",
    "method = \"optimum\"\n",
    "n_outliers=10\n",
    "epsilon = 0.00000005\n",
    "determinist = True\n",
    "ls = 15\n",
    "p=2\n",
    "alpha=n_outliers/n_samples;print(\"alpha=\",alpha)\n",
    "complexity_param=3;print('complexity_param=',complexity_param)"
   ]
  },
  {
   "cell_type": "code",
   "execution_count": 4,
   "metadata": {},
   "outputs": [
    {
     "data": {
      "text/plain": [
       "[<matplotlib.lines.Line2D at 0x7f7a38fae4c0>]"
      ]
     },
     "execution_count": 4,
     "metadata": {},
     "output_type": "execute_result"
    },
    {
     "data": {
      "image/png": "[encoded data removed]",
      "text/plain": [
       "<Figure size 432x288 with 1 Axes>"
      ]
     },
     "metadata": {
      "needs_background": "light"
     },
     "output_type": "display_data"
    }
   ],
   "source": [
    "temp=data_clustered_outliers(n_samples=n_samples,n_outliers=n_outliers,p=2)\n",
    "X=temp['points']\n",
    "plt.plot(X[:,0],X[:,1],'b.')"
   ]
  },
  {
   "cell_type": "code",
   "execution_count": 5,
   "metadata": {},
   "outputs": [
    {
     "name": "stdout",
     "output_type": "stream",
     "text": [
      "centers index when determinist is True and index_first_center is None: [92 57 65 53] \n",
      "\n",
      "centers index when determinist is True and index_first_center is 73: [73 57 65 53] \n",
      "\n",
      "centers index when determinist is True and index_first_center is 73: [48 57 65 53] \n",
      "\n"
     ]
    }
   ],
   "source": [
    "# k centroids are chosen with the LOF selection and to this end one needs a reference. The origin of the vector space will do it.\n",
    "index_first_center = None\n",
    "determinist = True\n",
    "index_center_init=init_ROBIN(X=X,k=k,method=\"optimum\",epsilon=epsilon,determinist=determinist,leaf_size=ls,index_first_center=index_first_center)\n",
    "print(f'centers index when determinist is True and index_first_center is {index_first_center}: {index_center_init} \\n')\n",
    "\n",
    "# k-1 centroids are chosen with the LOF selection and the reference is now the 1st centroids given in input\n",
    "determinist = True\n",
    "index_first_center = 73\n",
    "index_center_init=init_ROBIN(X=X,k=k,method=\"optimum\",epsilon=epsilon,determinist=determinist ,leaf_size=ls,index_first_center=index_first_center)\n",
    "print(f'centers index when determinist is True and index_first_center is {index_first_center}: {index_center_init} \\n')\n",
    "\n",
    "# k-1 centroids are chosen with the LOF selection and the reference is now taken a random among all data\n",
    "determinist = False\n",
    "index_center_init=init_ROBIN(X=X,k=k,method=\"optimum\",epsilon=epsilon,determinist=determinist,leaf_size=ls)\n",
    "print(f'centers index when determinist is True and index_first_center is {index_first_center}: {index_center_init} \\n')"
   ]
  },
  {
   "cell_type": "code",
   "execution_count": 6,
   "metadata": {},
   "outputs": [
    {
     "data": {
      "text/plain": [
       "[<matplotlib.lines.Line2D at 0x7f7a38eb47c0>]"
      ]
     },
     "execution_count": 6,
     "metadata": {},
     "output_type": "execute_result"
    },
    {
     "data": {
      "image/png": "[encoded data removed]",
      "text/plain": [
       "<Figure size 432x288 with 1 Axes>"
      ]
     },
     "metadata": {
      "needs_background": "light"
     },
     "output_type": "display_data"
    }
   ],
   "source": [
    "temp=data_clustered_outliers(n_samples=n_samples,n_outliers=n_outliers,p=2)\n",
    "X=temp['points']\n",
    "plt.plot(X[:,0],X[:,1],'b.')\n",
    "plt.plot(X[index_center_init,0],X[index_center_init,1],marker='.',linestyle='',color='red',ms=20)"
   ]
  },
  {
   "cell_type": "code",
   "execution_count": 7,
   "metadata": {},
   "outputs": [
    {
     "name": "stderr",
     "output_type": "stream",
     "text": [
      "/home/egenetay/workspace/RobustClustering_project/RobustClustering/ROBIN.py:202: UserWarning: ROBIN could not find any data with LOF inside intervalle ]1-epsilon,1+epsilon[ during procedure. ROBIN goes on with method \"optimum. Increase epsilon or decrease k if you do not want this message to show up.\"\n",
      "  warnings.warn('ROBIN could not find any data with LOF inside intervalle ]1-epsilon,1+epsilon[ during procedure. ROBIN goes on with method \"optimum. Increase epsilon or decrease k if you do not want this message to show up.\"')\n"
     ]
    },
    {
     "data": {
      "text/plain": [
       "array([17, 57, 65, 53])"
      ]
     },
     "execution_count": 7,
     "metadata": {},
     "output_type": "execute_result"
    }
   ],
   "source": [
    "index_center_init=init_ROBIN(X=X,k=k,method=\"approx\",epsilon=epsilon,determinist=determinist,leaf_size=ls)\n",
    "index_center_init"
   ]
  },
  {
   "cell_type": "code",
   "execution_count": 8,
   "metadata": {},
   "outputs": [
    {
     "data": {
      "text/plain": [
       "[<matplotlib.lines.Line2D at 0x7f7a38e35040>]"
      ]
     },
     "execution_count": 8,
     "metadata": {},
     "output_type": "execute_result"
    },
    {
     "data": {
      "image/png": "[encoded data removed]",
      "text/plain": [
       "<Figure size 432x288 with 1 Axes>"
      ]
     },
     "metadata": {
      "needs_background": "light"
     },
     "output_type": "display_data"
    }
   ],
   "source": [
    "temp=data_clustered_outliers(n_samples=n_samples,n_outliers=n_outliers,p=2)\n",
    "X=temp['points']\n",
    "plt.plot(X[:,0],X[:,1],'b.')\n",
    "plt.plot(X[index_center_init,0],X[index_center_init,1],marker='.',linestyle='',color='red',ms=20)"
   ]
  },
  {
   "cell_type": "code",
   "execution_count": 9,
   "metadata": {},
   "outputs": [
    {
     "name": "stderr",
     "output_type": "stream",
     "text": [
      "/home/egenetay/workspace/RobustClustering_project/RobustClustering/ROBIN.py:202: UserWarning: ROBIN could not find any data with LOF inside intervalle ]1-epsilon,1+epsilon[ during procedure. ROBIN goes on with method \"optimum. Increase epsilon or decrease k if you do not want this message to show up.\"\n",
      "  warnings.warn('ROBIN could not find any data with LOF inside intervalle ]1-epsilon,1+epsilon[ during procedure. ROBIN goes on with method \"optimum. Increase epsilon or decrease k if you do not want this message to show up.\"')\n"
     ]
    },
    {
     "data": {
      "text/plain": [
       "array([26, 57, 65, 53])"
      ]
     },
     "execution_count": 9,
     "metadata": {},
     "output_type": "execute_result"
    }
   ],
   "source": [
    "index_center_init=init_ROBIN(X=X,k=k,method=\"approx\",epsilon=epsilon,determinist=determinist,leaf_size=ls)\n",
    "index_center_init"
   ]
  },
  {
   "cell_type": "code",
   "execution_count": 10,
   "metadata": {},
   "outputs": [
    {
     "data": {
      "text/plain": [
       "[<matplotlib.lines.Line2D at 0x7f7a38e212e0>]"
      ]
     },
     "execution_count": 10,
     "metadata": {},
     "output_type": "execute_result"
    },
    {
     "data": {
      "image/png": "[encoded data removed]",
      "text/plain": [
       "<Figure size 432x288 with 1 Axes>"
      ]
     },
     "metadata": {
      "needs_background": "light"
     },
     "output_type": "display_data"
    }
   ],
   "source": [
    "temp=data_clustered_outliers(n_samples=n_samples,n_outliers=n_outliers,p=2)\n",
    "X=temp['points']\n",
    "plt.plot(X[:,0],X[:,1],'b.')\n",
    "plt.plot(X[index_center_init,0],X[index_center_init,1],marker='.',linestyle='',color='red',ms=20)"
   ]
  },
  {
   "cell_type": "markdown",
   "metadata": {},
   "source": [
    "## Example output of ROBIN + Images that show the centers ROBIN chose steps after steps"
   ]
  },
  {
   "cell_type": "code",
   "execution_count": 11,
   "metadata": {},
   "outputs": [
    {
     "data": {
      "image/png": "[encoded data removed]",
      "text/plain": [
       "<Figure size 432x288 with 1 Axes>"
      ]
     },
     "metadata": {
      "needs_background": "light"
     },
     "output_type": "display_data"
    },
    {
     "name": "stdout",
     "output_type": "stream",
     "text": [
      "0.007944345474243164\n"
     ]
    },
    {
     "data": {
      "image/png": "[encoded data removed]",
      "text/plain": [
       "<Figure size 432x288 with 1 Axes>"
      ]
     },
     "metadata": {
      "needs_background": "light"
     },
     "output_type": "display_data"
    },
    {
     "name": "stdout",
     "output_type": "stream",
     "text": [
      "0.014250040054321289\n"
     ]
    },
    {
     "data": {
      "image/png": "[encoded data removed]",
      "text/plain": [
       "<Figure size 432x288 with 1 Axes>"
      ]
     },
     "metadata": {
      "needs_background": "light"
     },
     "output_type": "display_data"
    },
    {
     "name": "stdout",
     "output_type": "stream",
     "text": [
      "0.02116560935974121\n"
     ]
    },
    {
     "data": {
      "image/png": "[encoded data removed]",
      "text/plain": [
       "<Figure size 432x288 with 1 Axes>"
      ]
     },
     "metadata": {
      "needs_background": "light"
     },
     "output_type": "display_data"
    },
    {
     "name": "stdout",
     "output_type": "stream",
     "text": [
      "0.02869129180908203\n"
     ]
    },
    {
     "data": {
      "image/png": "[encoded data removed]",
      "text/plain": [
       "<Figure size 432x288 with 1 Axes>"
      ]
     },
     "metadata": {
      "needs_background": "light"
     },
     "output_type": "display_data"
    },
    {
     "name": "stdout",
     "output_type": "stream",
     "text": [
      "0.039505958557128906\n"
     ]
    },
    {
     "data": {
      "image/png": "[encoded data removed]",
      "text/plain": [
       "<Figure size 432x288 with 1 Axes>"
      ]
     },
     "metadata": {
      "needs_background": "light"
     },
     "output_type": "display_data"
    }
   ],
   "source": [
    "epsilon=0.1 # The first point to be pointed by ROBIN that has LOF in [1-epsilon,1+epsilon] is choosen as next centroids\n",
    "determinist=True # will the first centroid taken at uniformly at random among data points (False) or according to a criterion that make ROBIN deterministic (True)\n",
    "ls=30 # Default value in LocalOutlierFactor() see here https://scikit-learn.org/stable/modules/generated/sklearn.neighbors.LocalOutlierFactor.html\n",
    "\n",
    "temp=data_clustered_outliers(n_samples=n_samples,n_outliers=n_outliers,p=2)\n",
    "X=temp['points']\n",
    "plt.plot(X[:,0],X[:,1],'b.')\n",
    "plt.savefig('graph/process_ROBIN_0_ls='+str(ls)+'.png')\n",
    "plt.show()\n",
    "plt.plot(X[:,0],X[:,1],'b.')\n",
    "t1=time.time()\n",
    "index_center_init=init_ROBIN(X=X,k=1,method=\"approx\",epsilon=epsilon,determinist=determinist,leaf_size=ls);index_center_init\n",
    "t2=time.time()\n",
    "print(t2-t1)\n",
    "plt.plot(X[index_center_init,0],X[index_center_init,1],'ro')\n",
    "plt.savefig('graph/process_ROBIN_1_ls='+str(ls)+'.png')\n",
    "plt.show()\n",
    "plt.plot(X[:,0],X[:,1],'b.')\n",
    "t1=time.time()\n",
    "index_center_init=init_ROBIN(X=X,k=2,method=\"approx\",epsilon=epsilon,determinist=determinist,leaf_size=ls);index_center_init\n",
    "t2=time.time()\n",
    "print(t2-t1)\n",
    "plt.plot(X[index_center_init,0],X[index_center_init,1],'ro')\n",
    "plt.savefig('graph/process_ROBIN_2_ls='+str(ls)+'.png')\n",
    "plt.show()\n",
    "plt.plot(X[:,0],X[:,1],'b.')\n",
    "t1=time.time()\n",
    "index_center_init=init_ROBIN(X=X,k=3,method=\"approx\",epsilon=epsilon,determinist=determinist,leaf_size=ls);index_center_init\n",
    "t2=time.time()\n",
    "print(t2-t1)\n",
    "plt.plot(X[index_center_init,0],X[index_center_init,1],'ro')\n",
    "plt.savefig('graph/process_ROBIN_3_ls='+str(ls)+'.png')\n",
    "plt.show()\n",
    "plt.plot(X[:,0],X[:,1],'b.')\n",
    "t1=time.time()\n",
    "index_center_init=init_ROBIN(X=X,k=4,method=\"approx\",epsilon=epsilon,determinist=determinist,leaf_size=ls);index_center_init\n",
    "t2=time.time()\n",
    "print(t2-t1)\n",
    "plt.plot(X[index_center_init,0],X[index_center_init,1],'ro')\n",
    "plt.savefig('graph/process_ROBIN_4_ls='+str(ls)+'.png')\n",
    "plt.show()\n",
    "plt.plot(X[:,0],X[:,1],'b.')\n",
    "t1=time.time()\n",
    "index_center_init=init_ROBIN(X=X,k=5,method=\"approx\",epsilon=epsilon,determinist=determinist,leaf_size=ls);index_center_init\n",
    "t2=time.time()\n",
    "print(t2-t1)\n",
    "plt.plot(X[index_center_init,0],X[index_center_init,1],'ro')\n",
    "plt.savefig('graph/process_ROBIN_5_ls='+str(ls)+'.png')\n",
    "plt.show()"
   ]
  },
  {
   "cell_type": "markdown",
   "metadata": {},
   "source": [
    "## example with method=\"minimum\""
   ]
  },
  {
   "cell_type": "code",
   "execution_count": 12,
   "metadata": {},
   "outputs": [
    {
     "data": {
      "text/plain": [
       "array([104, 107,  62,  76])"
      ]
     },
     "execution_count": 12,
     "metadata": {},
     "output_type": "execute_result"
    }
   ],
   "source": [
    "index_center_init=init_ROBIN(X=X,k=k,method=\"minimum\",epsilon=epsilon,determinist=determinist,leaf_size=ls)\n",
    "index_center_init"
   ]
  },
  {
   "cell_type": "code",
   "execution_count": null,
   "metadata": {},
   "outputs": [],
   "source": []
  }
 ],
 "metadata": {
  "kernelspec": {
   "display_name": "Python 3",
   "language": "python",
   "name": "python3"
  },
  "language_info": {
   "codemirror_mode": {
    "name": "ipython",
    "version": 3
   },
   "file_extension": ".py",
   "mimetype": "text/x-python",
   "name": "python",
   "nbconvert_exporter": "python",
   "pygments_lexer": "ipython3",
   "version": "3.8.5"
  }
 },
 "nbformat": 4,
 "nbformat_minor": 4
}
